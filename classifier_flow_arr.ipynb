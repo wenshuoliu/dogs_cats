{
 "cells": [
  {
   "cell_type": "markdown",
   "metadata": {},
   "source": [
    "# Dog vs. Cat Classifier\n",
    "This notebook is supposed to experiment on different aspects of a image classifier: types of layers (fully connected, convolutional), training sample sizes, image generator, pretrained models, etc. "
   ]
  },
  {
   "cell_type": "markdown",
   "metadata": {},
   "source": [
    "## Image Generator tools from _keras_"
   ]
  },
  {
   "cell_type": "code",
   "execution_count": 1,
   "metadata": {},
   "outputs": [
    {
     "name": "stderr",
     "output_type": "stream",
     "text": [
      "Using TensorFlow backend.\n"
     ]
    }
   ],
   "source": [
    "from keras.preprocessing.image import ImageDataGenerator, img_to_array, array_to_img, load_img\n",
    "#from PIL import Image\n",
    "import time\n",
    "from keras.utils import np_utils, multi_gpu_model"
   ]
  },
  {
   "cell_type": "markdown",
   "metadata": {},
   "source": [
    "Prepare the data, using the .flow_from_directory() method. "
   ]
  },
  {
   "cell_type": "code",
   "execution_count": 2,
   "metadata": {},
   "outputs": [
    {
     "name": "stdout",
     "output_type": "stream",
     "text": [
      "Found 23000 images belonging to 2 classes.\n",
      "Found 2000 images belonging to 2 classes.\n",
      "Time used for reading data:  112.02716207504272\n"
     ]
    }
   ],
   "source": [
    "batch_size = 32\n",
    "\n",
    "# this generator is used to read all image into a large numpy array\n",
    "read_datagen = ImageDataGenerator()\n",
    "\n",
    "# this is the augmentation configuration we will use for training\n",
    "train_datagen = ImageDataGenerator(\n",
    "        rescale=1./255,\n",
    "        width_shift_range=0.1,\n",
    "        height_shift_range=0.1,\n",
    "        shear_range=0.1,\n",
    "        zoom_range=0.1,\n",
    "        rotation_range=20,\n",
    "        horizontal_flip=True,\n",
    "        fill_mode='nearest')\n",
    "\n",
    "# this is the augmentation configuration we will use for testing:\n",
    "# only rescaling\n",
    "test_datagen = ImageDataGenerator(rescale=1./255)\n",
    "\n",
    "# read the images into memory as a large numpy array\n",
    "batch = 0\n",
    "start = time.time()\n",
    "for X_train, y_train in read_datagen.flow_from_directory(\n",
    "        '/scratch/bnallamo_armis/wsliu/dogs_cats/train',  # this is the target directory\n",
    "        target_size=(224, 224),  # all images will be resized to 150x150\n",
    "        batch_size=23000,\n",
    "        class_mode='categorical'):  # since we use binary_crossentropy loss, we need binary labels\n",
    "    batch += 1\n",
    "    if batch >= 1:\n",
    "        break  # since we use binary_crossentropy loss, we need binary labels\n",
    "\n",
    "batch = 0\n",
    "for X_test, y_test in  read_datagen.flow_from_directory(\n",
    "        '/scratch/bnallamo_armis/wsliu/dogs_cats/data/train2000',\n",
    "        target_size=(224, 224),\n",
    "        batch_size=2000,\n",
    "        class_mode='categorical'):\n",
    "    batch += 1\n",
    "    if batch >= 1:\n",
    "        break\n",
    "print(\"Time used for reading data: \", time.time() - start)"
   ]
  },
  {
   "cell_type": "code",
   "execution_count": 3,
   "metadata": {},
   "outputs": [],
   "source": [
    "# define the flow from the data in the memory\n",
    "G = 2\n",
    "train_generator = train_datagen.flow(X_train, y_train, batch_size=batch_size*G)\n",
    "validation_generator = test_datagen.flow(X_test, y_test, batch_size=batch_size*G)"
   ]
  },
  {
   "cell_type": "markdown",
   "metadata": {},
   "source": [
    "## Model specification"
   ]
  },
  {
   "cell_type": "code",
   "execution_count": 4,
   "metadata": {},
   "outputs": [],
   "source": [
    "from keras.models import Sequential\n",
    "from keras.layers import Conv2D, MaxPooling2D\n",
    "from keras.layers import Activation, Dropout, Flatten, Dense\n",
    "import tensorflow as tf"
   ]
  },
  {
   "cell_type": "code",
   "execution_count": 5,
   "metadata": {},
   "outputs": [],
   "source": [
    "# build the model on CPU memory:\n",
    "with tf.device('/cpu:0'):\n",
    "    model = Sequential()\n",
    "    model.add(Conv2D(32, (3, 3), input_shape=(224, 224, 3)))\n",
    "    model.add(Activation('relu'))\n",
    "    model.add(MaxPooling2D((2, 2), strides=(2,2)))\n",
    "\n",
    "    model.add(Conv2D(64, (3, 3)))\n",
    "    model.add(Activation('relu'))\n",
    "    model.add(MaxPooling2D((2, 2), strides=(2,2)))\n",
    "\n",
    "    model.add(Conv2D(128, (3, 3)))\n",
    "    model.add(Activation('relu'))\n",
    "    model.add(MaxPooling2D((2, 2), strides=(2,2)))\n",
    "\n",
    "    model.add(Conv2D(256, (3, 3)))\n",
    "    model.add(Activation('relu'))\n",
    "    model.add(MaxPooling2D((2, 2), strides=(2,2)))\n",
    "# the model so far outputs 3D feature maps (height, width, features)\n",
    "\n",
    "    model.add(Flatten())  # this converts our 3D feature maps to 1D feature vectors\n",
    "    model.add(Dense(512))\n",
    "    model.add(Activation('relu'))\n",
    "    model.add(Dropout(0.5))\n",
    "    model.add(Dense(2))\n",
    "    model.add(Activation('softmax'))"
   ]
  },
  {
   "cell_type": "code",
   "execution_count": 7,
   "metadata": {},
   "outputs": [],
   "source": [
    "# duplicate model on each GPU\n",
    "parallel_model = multi_gpu_model(model, gpus=G)\n",
    "\n",
    "#sgd = SGD(lr=0.5, decay=1e-6, momentum=0.5, nesterov=True)\n",
    "parallel_model.compile(loss='categorical_crossentropy',\n",
    "              optimizer='adam',\n",
    "              metrics=['accuracy'])"
   ]
  },
  {
   "cell_type": "markdown",
   "metadata": {},
   "source": [
    "Model training:"
   ]
  },
  {
   "cell_type": "code",
   "execution_count": 8,
   "metadata": {},
   "outputs": [
    {
     "name": "stdout",
     "output_type": "stream",
     "text": [
      "Epoch 1/10\n",
      "359/359 [==============================] - 274s 764ms/step - loss: 0.6467 - acc: 0.6128 - val_loss: 0.5526 - val_acc: 0.7303\n",
      "Epoch 2/10\n",
      "359/359 [==============================] - 271s 754ms/step - loss: 0.5382 - acc: 0.7303 - val_loss: 0.4469 - val_acc: 0.7954\n",
      "Epoch 3/10\n",
      "359/359 [==============================] - 267s 743ms/step - loss: 0.4696 - acc: 0.7784 - val_loss: 0.3861 - val_acc: 0.8306\n",
      "Epoch 4/10\n",
      "359/359 [==============================] - 252s 703ms/step - loss: 0.4173 - acc: 0.8105 - val_loss: 0.3356 - val_acc: 0.8679\n",
      "Epoch 5/10\n",
      "359/359 [==============================] - 253s 705ms/step - loss: 0.3730 - acc: 0.8329 - val_loss: 0.2885 - val_acc: 0.8765\n",
      "Epoch 6/10\n",
      "359/359 [==============================] - 253s 705ms/step - loss: 0.3397 - acc: 0.8533 - val_loss: 0.2604 - val_acc: 0.8921\n",
      "Epoch 7/10\n",
      "359/359 [==============================] - 252s 702ms/step - loss: 0.3032 - acc: 0.8686 - val_loss: 0.2467 - val_acc: 0.8952\n",
      "Epoch 8/10\n",
      "359/359 [==============================] - 251s 700ms/step - loss: 0.2756 - acc: 0.8820 - val_loss: 0.2719 - val_acc: 0.8790\n",
      "Epoch 9/10\n",
      "359/359 [==============================] - 251s 699ms/step - loss: 0.2587 - acc: 0.8918 - val_loss: 0.2047 - val_acc: 0.9168\n",
      "Epoch 10/10\n",
      "359/359 [==============================] - 251s 699ms/step - loss: 0.2423 - acc: 0.8994 - val_loss: 0.2405 - val_acc: 0.8881\n",
      "Time used for training model:  2579.7840945720673\n"
     ]
    }
   ],
   "source": [
    "start = time.time()\n",
    "parallel_model.fit_generator(\n",
    "        train_generator,\n",
    "        steps_per_epoch=train_generator.n // (batch_size*G),\n",
    "        epochs=10,\n",
    "        validation_data=validation_generator,\n",
    "        validation_steps=validation_generator.n // (batch_size*G));\n",
    "print(\"Time used for training model: \", time.time()-start)"
   ]
  },
  {
   "cell_type": "code",
   "execution_count": 6,
   "metadata": {
    "collapsed": true
   },
   "outputs": [],
   "source": [
    "model.save_weights('naive_cnn_full_sample.h5')  # always save your weights after training or during training"
   ]
  }
 ],
 "metadata": {
  "kernelspec": {
   "display_name": "Python 3",
   "language": "python",
   "name": "python3"
  },
  "language_info": {
   "codemirror_mode": {
    "name": "ipython",
    "version": 3
   },
   "file_extension": ".py",
   "mimetype": "text/x-python",
   "name": "python",
   "nbconvert_exporter": "python",
   "pygments_lexer": "ipython3",
   "version": "3.5.4"
  }
 },
 "nbformat": 4,
 "nbformat_minor": 2
}
