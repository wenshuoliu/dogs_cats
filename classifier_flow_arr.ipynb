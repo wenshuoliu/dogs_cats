{
 "cells": [
  {
   "cell_type": "markdown",
   "metadata": {},
   "source": [
    "# Dog vs. Cat Classifier\n",
    "This notebook is supposed to experiment on different aspects of a image classifier: types of layers (fully connected, convolutional), training sample sizes, image generator, pretrained models, etc. "
   ]
  },
  {
   "cell_type": "markdown",
   "metadata": {},
   "source": [
    "## Image Generator tools from _keras_"
   ]
  },
  {
   "cell_type": "code",
   "execution_count": 1,
   "metadata": {},
   "outputs": [
    {
     "name": "stderr",
     "output_type": "stream",
     "text": [
      "Using TensorFlow backend.\n"
     ]
    }
   ],
   "source": [
    "from keras.preprocessing.image import ImageDataGenerator, img_to_array, array_to_img, load_img\n",
    "#from PIL import Image\n",
    "import time\n",
    "from keras.utils import np_utils, multi_gpu_model"
   ]
  },
  {
   "cell_type": "markdown",
   "metadata": {},
   "source": [
    "Prepare the data, using the .flow_from_directory() method. "
   ]
  },
  {
   "cell_type": "code",
   "execution_count": 3,
   "metadata": {},
   "outputs": [
    {
     "name": "stdout",
     "output_type": "stream",
     "text": [
      "Found 23000 images belonging to 2 classes.\n",
      "Found 2000 images belonging to 2 classes.\n",
      "Time used for reading data:  210.5278878211975\n"
     ]
    }
   ],
   "source": [
    "batch_size = 32\n",
    "\n",
    "# this generator is used to read all image into a large numpy array\n",
    "read_datagen = ImageDataGenerator()\n",
    "\n",
    "# this is the augmentation configuration we will use for training\n",
    "train_datagen = ImageDataGenerator(\n",
    "        rescale=1./255,\n",
    "        width_shift_range=0.1,\n",
    "        height_shift_range=0.1,\n",
    "        shear_range=0.1,\n",
    "        zoom_range=0.1,\n",
    "        rotation_range=20,\n",
    "        horizontal_flip=True,\n",
    "        fill_mode='nearest')\n",
    "\n",
    "# this is the augmentation configuration we will use for testing:\n",
    "# only rescaling\n",
    "test_datagen = ImageDataGenerator(rescale=1./255)\n",
    "\n",
    "# read the images into memory as a large numpy array\n",
    "batch = 0\n",
    "start = time.time()\n",
    "for X_train, y_train in read_datagen.flow_from_directory(\n",
    "        '/scratch/bnallamo_armis/wsliu/dogs_cats/train',  # this is the target directory\n",
    "        target_size=(224, 224),  # all images will be resized to 150x150\n",
    "        batch_size=23000,\n",
    "        class_mode='categorical'):  # since we use binary_crossentropy loss, we need binary labels\n",
    "    batch += 1\n",
    "    if batch >= 1:\n",
    "        break  # since we use binary_crossentropy loss, we need binary labels\n",
    "\n",
    "batch = 0\n",
    "for X_test, y_test in  read_datagen.flow_from_directory(\n",
    "        '/scratch/bnallamo_armis/wsliu/dogs_cats/data/train2000',\n",
    "        target_size=(224, 224),\n",
    "        batch_size=2000,\n",
    "        class_mode='categorical'):\n",
    "    batch += 1\n",
    "    if batch >= 1:\n",
    "        break\n",
    "print(\"Time used for reading data: \", time.time() - start)"
   ]
  },
  {
   "cell_type": "code",
   "execution_count": 7,
   "metadata": {},
   "outputs": [],
   "source": [
    "# define the flow from the data in the memory\n",
    "G = 2\n",
    "train_generator = train_datagen.flow(X_train, y_train, batch_size=batch_size*G)\n",
    "validation_generator = test_datagen.flow(X_test, y_test, batch_size=batch_size*G)"
   ]
  },
  {
   "cell_type": "markdown",
   "metadata": {},
   "source": [
    "## Model specification"
   ]
  },
  {
   "cell_type": "code",
   "execution_count": 5,
   "metadata": {},
   "outputs": [],
   "source": [
    "from keras.models import Sequential\n",
    "from keras.layers import Conv2D, MaxPooling2D\n",
    "from keras.layers import Activation, Dropout, Flatten, Dense\n",
    "import tensorflow as tf"
   ]
  },
  {
   "cell_type": "code",
   "execution_count": 6,
   "metadata": {},
   "outputs": [],
   "source": [
    "# build the model on CPU memory:\n",
    "with tf.device('/cpu:0'):\n",
    "    model = Sequential()\n",
    "    model.add(Conv2D(32, (3, 3), input_shape=(224, 224, 3)))\n",
    "    model.add(Activation('relu'))\n",
    "    model.add(MaxPooling2D((2, 2), strides=(2,2)))\n",
    "\n",
    "    model.add(Conv2D(64, (3, 3)))\n",
    "    model.add(Activation('relu'))\n",
    "    model.add(MaxPooling2D((2, 2), strides=(2,2)))\n",
    "\n",
    "    model.add(Conv2D(128, (3, 3)))\n",
    "    model.add(Activation('relu'))\n",
    "    model.add(MaxPooling2D((2, 2), strides=(2,2)))\n",
    "\n",
    "    model.add(Conv2D(256, (3, 3)))\n",
    "    model.add(Activation('relu'))\n",
    "    model.add(MaxPooling2D((2, 2), strides=(2,2)))\n",
    "# the model so far outputs 3D feature maps (height, width, features)\n",
    "\n",
    "    model.add(Flatten())  # this converts our 3D feature maps to 1D feature vectors\n",
    "    model.add(Dense(512))\n",
    "    model.add(Activation('relu'))\n",
    "    model.add(Dropout(0.5))\n",
    "    model.add(Dense(2))\n",
    "    model.add(Activation('softmax'))"
   ]
  },
  {
   "cell_type": "code",
   "execution_count": 11,
   "metadata": {},
   "outputs": [],
   "source": [
    "# duplicate model on each GPU\n",
    "parallel_model = multi_gpu_model(model, gpus=G)\n",
    "\n",
    "#sgd = SGD(lr=0.5, decay=1e-6, momentum=0.5, nesterov=True)\n",
    "parallel_model.compile(loss='categorical_crossentropy',\n",
    "              optimizer='adam',\n",
    "              metrics=['accuracy'])"
   ]
  },
  {
   "cell_type": "markdown",
   "metadata": {},
   "source": [
    "Model training:"
   ]
  },
  {
   "cell_type": "code",
   "execution_count": 12,
   "metadata": {},
   "outputs": [
    {
     "name": "stdout",
     "output_type": "stream",
     "text": [
      "Epoch 1/5\n",
      "359/359 [==============================] - 298s 831ms/step - loss: 0.6635 - acc: 0.5895 - val_loss: 0.5868 - val_acc: 0.6724\n",
      "Epoch 2/5\n",
      "359/359 [==============================] - 279s 777ms/step - loss: 0.5587 - acc: 0.7082 - val_loss: 0.4721 - val_acc: 0.7802\n",
      "Epoch 3/5\n",
      "359/359 [==============================] - 276s 770ms/step - loss: 0.4846 - acc: 0.7701 - val_loss: 0.4183 - val_acc: 0.8216\n",
      "Epoch 4/5\n",
      "359/359 [==============================] - 263s 732ms/step - loss: 0.4357 - acc: 0.7978 - val_loss: 0.3466 - val_acc: 0.8538\n",
      "Epoch 5/5\n",
      "359/359 [==============================] - 271s 754ms/step - loss: 0.3826 - acc: 0.8289 - val_loss: 0.3046 - val_acc: 0.8674\n",
      "Time used for training model:  1389.4613313674927\n"
     ]
    }
   ],
   "source": [
    "start = time.time()\n",
    "parallel_model.fit_generator(\n",
    "        train_generator,\n",
    "        steps_per_epoch=train_generator.n // (batch_size*G),\n",
    "        epochs=5,\n",
    "        validation_data=validation_generator,\n",
    "        validation_steps=validation_generator.n // (batch_size*G));\n",
    "print(\"Time used for training model: \", time.time()-start)"
   ]
  },
  {
   "cell_type": "code",
   "execution_count": 6,
   "metadata": {
    "collapsed": true
   },
   "outputs": [],
   "source": [
    "model.save_weights('naive_cnn_full_sample.h5')  # always save your weights after training or during training"
   ]
  }
 ],
 "metadata": {
  "kernelspec": {
   "display_name": "Python 3",
   "language": "python",
   "name": "python3"
  },
  "language_info": {
   "codemirror_mode": {
    "name": "ipython",
    "version": 3
   },
   "file_extension": ".py",
   "mimetype": "text/x-python",
   "name": "python",
   "nbconvert_exporter": "python",
   "pygments_lexer": "ipython3",
   "version": "3.5.4"
  }
 },
 "nbformat": 4,
 "nbformat_minor": 2
}
